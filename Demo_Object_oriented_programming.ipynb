{
 "cells": [
  {
   "cell_type": "markdown",
   "id": "d8bba665",
   "metadata": {},
   "source": [
    "<img src=\"https://www.sturgischarterschool.com/wp-content/uploads/2019/06/sturgisheader_logo.png\" alt=\"sturgis\" width=\"250\" align=\"right\"/>\n",
    "\n",
    "## Computer Science 'Object Oriented Programming' Demo\n",
    "### Sturgis Charter Public School \n",
    "\n"
   ]
  },
  {
   "cell_type": "markdown",
   "id": "16bf0839",
   "metadata": {},
   "source": [
    "### Learning Objectives for notebook \n",
    "* Object Oriented Pogramming\n",
    "* Functions\n",
    "* Classes\n",
    "\n",
    "First let's talk about object oriented programming. The central premise is that by coding we make objects, which can be used again in new contexts. This is incredibly powerful, and not only streamlines code, but in some cases makes coding something possible where otherwise it would be impossible. Let's [read](https://www.educative.io/blog/object-oriented-programming) just a bit about it.\n",
    "\n",
    "It is a theoretical concept that drives the way we apply code. Consider the flowcharts we've been using. If you think about it, we could take the page that you write your flowchart on, and consider that page an 'object'. We could then string together those pages (and even photocopy them) to make an even bigger program. This is, in fact, what we see in computer science. Consider [universal modeling language](https://www.educative.io/blog/object-oriented-programming).\n",
    "\n",
    "#### Functions\n",
    "\n",
    "We've actually seen plenty of functions already, but let's revisit the basics one more time. A function has a few hallmarks. \n",
    "\n",
    "* a keyword to build it `def`\n",
    "* a unique name\n",
    "* The use of `( )` where you can put parameters\n",
    "* Indentation--everything inside the function should be indented \n",
    "* an optional return value\n",
    "\n",
    "Let's look at an example below."
   ]
  },
  {
   "cell_type": "code",
   "execution_count": 1,
   "id": "fb3eb272",
   "metadata": {},
   "outputs": [],
   "source": [
    "# Personally I like to build my functions in unique cells. \n",
    "\n",
    "#This is an object. It has boundaries, it has an input, and it has an output. \n",
    "def fib_fast(i):\n",
    "    fib1 = 0\n",
    "    fib2 = 0\n",
    "    nfibonnaci = 0\n",
    "    for value in range(i):\n",
    "        nfibonnaci = fib1 + fib2\n",
    "        fib1 = fib2\n",
    "        fib2 = nfibonnaci\n",
    "        if value == 0:\n",
    "            fib2 = 1\n",
    "    if i == 1:\n",
    "        nfibonnaci = 1\n",
    "    return nfibonnaci"
   ]
  },
  {
   "cell_type": "code",
   "execution_count": 6,
   "id": "dc35c060",
   "metadata": {},
   "outputs": [
    {
     "name": "stdout",
     "output_type": "stream",
     "text": [
      "55\n"
     ]
    }
   ],
   "source": [
    "# I can then run my function in a different cell. \n",
    "print(fib_fast(10))"
   ]
  },
  {
   "cell_type": "code",
   "execution_count": 4,
   "id": "aa81d7b8",
   "metadata": {},
   "outputs": [
    {
     "name": "stdout",
     "output_type": "stream",
     "text": [
      "0\n",
      "1\n",
      "1\n",
      "2\n",
      "3\n",
      "5\n",
      "8\n",
      "13\n",
      "21\n",
      "34\n",
      "55\n",
      "89\n",
      "144\n",
      "233\n",
      "377\n",
      "610\n",
      "987\n",
      "1597\n",
      "2584\n",
      "4181\n",
      "6765\n",
      "10946\n",
      "17711\n",
      "28657\n",
      "46368\n",
      "75025\n",
      "121393\n",
      "196418\n",
      "317811\n",
      "514229\n",
      "832040\n",
      "1346269\n",
      "2178309\n",
      "3524578\n",
      "5702887\n",
      "9227465\n",
      "14930352\n",
      "24157817\n",
      "39088169\n",
      "63245986\n",
      "102334155\n",
      "165580141\n",
      "267914296\n",
      "433494437\n",
      "701408733\n",
      "1134903170\n",
      "1836311903\n",
      "2971215073\n",
      "4807526976\n",
      "7778742049\n",
      "12586269025\n",
      "20365011074\n",
      "32951280099\n",
      "53316291173\n",
      "86267571272\n",
      "139583862445\n",
      "225851433717\n",
      "365435296162\n",
      "591286729879\n",
      "956722026041\n",
      "1548008755920\n",
      "2504730781961\n",
      "4052739537881\n",
      "6557470319842\n",
      "10610209857723\n",
      "17167680177565\n",
      "27777890035288\n",
      "44945570212853\n",
      "72723460248141\n",
      "117669030460994\n",
      "190392490709135\n",
      "308061521170129\n",
      "498454011879264\n",
      "806515533049393\n",
      "1304969544928657\n",
      "2111485077978050\n",
      "3416454622906707\n",
      "5527939700884757\n",
      "8944394323791464\n",
      "14472334024676221\n",
      "23416728348467685\n",
      "37889062373143906\n",
      "61305790721611591\n",
      "99194853094755497\n",
      "160500643816367088\n",
      "259695496911122585\n",
      "420196140727489673\n",
      "679891637638612258\n",
      "1100087778366101931\n",
      "1779979416004714189\n",
      "2880067194370816120\n",
      "4660046610375530309\n",
      "7540113804746346429\n",
      "12200160415121876738\n",
      "19740274219868223167\n",
      "31940434634990099905\n",
      "51680708854858323072\n",
      "83621143489848422977\n",
      "135301852344706746049\n",
      "218922995834555169026\n"
     ]
    }
   ],
   "source": [
    "# What's cool is that I can run this code as many times as I want.\n",
    "# Here I'm using my object (my code), 20 times. Wouldn't it be a pain to have to copy-paste that over 20 times?\n",
    "# As a general rule, if you are copying code, you're doing too much work\n",
    "\n",
    "for i in range(100):\n",
    "    print(fib_fast(i))"
   ]
  },
  {
   "cell_type": "markdown",
   "id": "cade3247",
   "metadata": {},
   "source": [
    "#### Classes\n",
    "\n",
    "It would seem that functions are the objects we have been looking for, but as it turns out they are too small to be the fully fledged objects we're looking for. Here we introduce classes. A class is a template for creating objects. The difference is that a function runs code, whereas a class can represent an object. Let's imagine that we're using computer programming for taxonomy. We might make a class: `cats`, but that's not an object yet. It's not until we instantiate that class with a particular cat `Meowser`. This object will have the template `cats`, but might change based on the specific parameters of `Meowser`. That's what we see in computer programming.\n",
    "\n",
    "Let's build a simple template. "
   ]
  },
  {
   "cell_type": "code",
   "execution_count": 7,
   "id": "f8a6ec97",
   "metadata": {},
   "outputs": [],
   "source": [
    "#Notice how all the code is indented.\n",
    "\n",
    "#Here, however, we have this keyword self. Inside of the class everything is self.\n",
    "class cats():\n",
    "    def __init__(self):\n",
    "        self.breed = 'UNKNOWN'\n",
    "        self.personality = 'UNKNOWN'\n",
    "        self.cuddliness = 'UNKNOWN'\n",
    "        self.species = 'cat'\n",
    "        \n",
    "    def catch_mice(self, mice, number):\n",
    "        mice -= 5\n",
    "        print(\"Caught some mice: \", number)\n",
    "        return mice\n",
    "        \n",
    "    "
   ]
  },
  {
   "cell_type": "code",
   "execution_count": 8,
   "id": "9b08e54f",
   "metadata": {},
   "outputs": [],
   "source": [
    "mice = 20\n",
    "meowser = cats()"
   ]
  },
  {
   "cell_type": "code",
   "execution_count": 9,
   "id": "c89342e8",
   "metadata": {},
   "outputs": [
    {
     "name": "stdout",
     "output_type": "stream",
     "text": [
      "<class '__main__.cats'>\n"
     ]
    }
   ],
   "source": [
    "print(type(meowser))"
   ]
  },
  {
   "cell_type": "code",
   "execution_count": 18,
   "id": "7fa92dc8",
   "metadata": {},
   "outputs": [
    {
     "name": "stdout",
     "output_type": "stream",
     "text": [
      "Caught some mice:  5\n"
     ]
    }
   ],
   "source": [
    "#Look, I'm calling a function inside my object. How cool is that!\n",
    "mice = meowser.catch_mice(mice, 5)"
   ]
  },
  {
   "cell_type": "code",
   "execution_count": 19,
   "id": "74be6dba",
   "metadata": {},
   "outputs": [
    {
     "name": "stdout",
     "output_type": "stream",
     "text": [
      "-5\n"
     ]
    }
   ],
   "source": [
    "print(mice)"
   ]
  },
  {
   "cell_type": "code",
   "execution_count": null,
   "id": "74b40b9a",
   "metadata": {},
   "outputs": [],
   "source": []
  }
 ],
 "metadata": {
  "kernelspec": {
   "display_name": "Python 3 (ipykernel)",
   "language": "python",
   "name": "python3"
  },
  "language_info": {
   "codemirror_mode": {
    "name": "ipython",
    "version": 3
   },
   "file_extension": ".py",
   "mimetype": "text/x-python",
   "name": "python",
   "nbconvert_exporter": "python",
   "pygments_lexer": "ipython3",
   "version": "3.9.7"
  }
 },
 "nbformat": 4,
 "nbformat_minor": 5
}

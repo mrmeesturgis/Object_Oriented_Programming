{
 "cells": [
  {
   "cell_type": "markdown",
   "id": "d8bba665",
   "metadata": {},
   "source": [
    "<img src=\"https://www.sturgischarterschool.com/wp-content/uploads/2019/06/sturgisheader_logo.png\" alt=\"sturgis\" width=\"250\" align=\"right\"/>\n",
    "\n",
    "## Computer Science 'Object Oriented Programming' Demo\n",
    "### Sturgis Charter Public School \n",
    "\n"
   ]
  },
  {
   "cell_type": "markdown",
   "id": "16bf0839",
   "metadata": {},
   "source": [
    "### Learning Objectives for notebook \n",
    "* Object Oriented Pogramming\n",
    "* Functions\n",
    "* Classes\n",
    "\n",
    "First let's talk about object oriented programming. The central premise is that by coding we make objects, which can be used again in new contexts. This is incredibly powerful, and not only streamlines code, but in some cases makes coding something possible where otherwise it would be impossible. Let's [read](https://www.educative.io/blog/object-oriented-programming) just a bit about it.\n",
    "\n",
    "It is a theoretical concept that drives the way we apply code. Consider the flowcharts we've been using. If you think about it, we could take the page that you write your flowchart on, and consider that page an 'object'. We could then string together those pages (and even photocopy them) to make an even bigger program. This is, in fact, what we see in computer science. Consider [universal modeling language](https://www.educative.io/blog/object-oriented-programming).\n",
    "\n",
    "#### Functions\n",
    "\n",
    "We've actually seen plenty of functions already, but let's revisit the basics one more time. A function has a few hallmarks. \n",
    "\n",
    "* a keyword to build it `def`\n",
    "* a unique name\n",
    "* The use of `( )` where you can put parameters\n",
    "* Indentation--everything inside the function should be indented \n",
    "* an optional return value\n",
    "\n",
    "Let's look at an example below."
   ]
  },
  {
   "cell_type": "code",
   "execution_count": null,
   "id": "fb3eb272",
   "metadata": {},
   "outputs": [],
   "source": [
    "# Personally I like to build my functions in unique cells. \n",
    "\n",
    "#This is an object. It has boundaries, it has an input, and it has an output. \n",
    "def fib_fast(i):\n",
    "    fib1 = 0\n",
    "    fib2 = 0\n",
    "    nfibonnaci = 0\n",
    "    for value in range(i):\n",
    "        nfibonnaci = fib1 + fib2\n",
    "        fib1 = fib2\n",
    "        fib2 = nfibonnaci\n",
    "        if value == 0:\n",
    "            fib2 = 1\n",
    "    if i == 1:\n",
    "        nfibonnaci = 1\n",
    "    return nfibonnaci"
   ]
  },
  {
   "cell_type": "code",
   "execution_count": null,
   "id": "dc35c060",
   "metadata": {},
   "outputs": [],
   "source": [
    "# I can then run my function in a different cell. \n",
    "print(fib_fast(10))"
   ]
  },
  {
   "cell_type": "code",
   "execution_count": null,
   "id": "aa81d7b8",
   "metadata": {},
   "outputs": [],
   "source": [
    "# What's cool is that I can run this code as many times as I want.\n",
    "# Here I'm using my object (my code), 20 times. Wouldn't it be a pain to have to copy-paste that over 20 times?\n",
    "# As a general rule, if you are copying code, you're doing too much work\n",
    "\n",
    "for i in range(20):\n",
    "    print(fib_fast(i))"
   ]
  },
  {
   "cell_type": "markdown",
   "id": "cade3247",
   "metadata": {},
   "source": [
    "#### Classes\n",
    "\n",
    "It would seem that functions are the objects we have been looking for, but as it turns out they are too small to be the fully fledged objects we're looking for. Here we introduce classes. A class is a template for creating objects. The difference is that a function runs code, whereas a class can represent an object. Let's imagine that we're using computer programming for taxonomy. We might make a class: `cats`, but that's not an object yet. It's not until we instantiate that class with a particular cat `Meowser`. This object will have the template `cats`, but might change based on the specific parameters of `Meowser`. That's what we see in computer programming.\n",
    "\n",
    "Let's build a simple template. "
   ]
  },
  {
   "cell_type": "code",
   "execution_count": null,
   "id": "f8a6ec97",
   "metadata": {},
   "outputs": [],
   "source": [
    "#Notice how all the code is indented.\n",
    "\n",
    "#Here, however, we have this keyword self. Inside of the class everything is self.\n",
    "class cats():\n",
    "    def __init__(self):\n",
    "        self.breed = 'UNKNOWN'\n",
    "        self.personality = 'UNKNOWN'\n",
    "        self.cuddliness = 'UNKNOWN'\n",
    "        self.species = 'cat'\n",
    "        \n",
    "    def catch_mice(self, mice, number):\n",
    "        mice -= 5\n",
    "        print(\"Caught some mice: \", number)\n",
    "        return mice\n",
    "        \n",
    "    "
   ]
  },
  {
   "cell_type": "code",
   "execution_count": null,
   "id": "9b08e54f",
   "metadata": {},
   "outputs": [],
   "source": [
    "mice = 20\n",
    "meowser = cats()"
   ]
  },
  {
   "cell_type": "code",
   "execution_count": null,
   "id": "7fa92dc8",
   "metadata": {},
   "outputs": [],
   "source": [
    "#Look, I'm calling a function inside my object. How cool is that!\n",
    "mice = meowser.catch_mice(mice, 5)"
   ]
  },
  {
   "cell_type": "code",
   "execution_count": null,
   "id": "74be6dba",
   "metadata": {},
   "outputs": [],
   "source": [
    "print(mice)"
   ]
  }
 ],
 "metadata": {
  "kernelspec": {
   "display_name": "Python 3 (ipykernel)",
   "language": "python",
   "name": "python3"
  },
  "language_info": {
   "codemirror_mode": {
    "name": "ipython",
    "version": 3
   },
   "file_extension": ".py",
   "mimetype": "text/x-python",
   "name": "python",
   "nbconvert_exporter": "python",
   "pygments_lexer": "ipython3",
   "version": "3.9.7"
  }
 },
 "nbformat": 4,
 "nbformat_minor": 5
}
